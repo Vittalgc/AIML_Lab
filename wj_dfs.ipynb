{
 "cells": [
  {
   "cell_type": "code",
   "execution_count": 8,
   "id": "189f9096-cedd-47b6-9ec2-fe71b3ef1db0",
   "metadata": {
    "tags": []
   },
   "outputs": [],
   "source": [
    "def dfs(start, target, a , b):\n",
    "    \n",
    "    stack = [((start), set())]\n",
    "    \n",
    "    while(len(stack) > 0):\n",
    "        (curr_a, curr_b), visited = stack.pop()\n",
    "        \n",
    "        if (curr_a, curr_b) in visited: \n",
    "            continue\n",
    "        \n",
    "        visited.add((curr_a, curr_b))\n",
    "        \n",
    "        if curr_a == target or curr_b == target:\n",
    "            return True\n",
    "    \n",
    "        stack.append(((a, curr_b), visited.copy()))\n",
    "        stack.append(((curr_a, b), visited.copy()))\n",
    "        stack.append(((0, curr_b), visited.copy()))\n",
    "        stack.append(((curr_a, 0), visited.copy()))\n",
    "        stack.append(((min(curr_a + curr_b, a), max(0, curr_a + curr_b - a)), visited.copy()))\n",
    "        stack.append(((max(0, curr_a + curr_b - b), min(curr_a + curr_b, b)), visited.copy()))\n",
    "    \n",
    "    return False"
   ]
  },
  {
   "cell_type": "code",
   "execution_count": 9,
   "id": "3d100714-3953-4cf7-a44a-d85916d758b8",
   "metadata": {
    "tags": []
   },
   "outputs": [],
   "source": [
    "def wj(a, b, t):\n",
    "    start = (0, 0)\n",
    "    target = (t, 0)\n",
    "    if dfs(start, t, a, b):\n",
    "        print(target, \"reached\")\n",
    "    else:\n",
    "        print(\"No Solution found\")"
   ]
  },
  {
   "cell_type": "code",
   "execution_count": 10,
   "id": "bcd165e5-c0e5-4ac1-9145-a37c2b25aeee",
   "metadata": {
    "tags": []
   },
   "outputs": [
    {
     "name": "stdout",
     "output_type": "stream",
     "text": [
      "(2, 0) reached\n"
     ]
    }
   ],
   "source": [
    "wj(4, 3, 2)"
   ]
  }
 ],
 "metadata": {
  "kernelspec": {
   "display_name": "Python 3 (ipykernel)",
   "language": "python",
   "name": "python3"
  },
  "language_info": {
   "codemirror_mode": {
    "name": "ipython",
    "version": 3
   },
   "file_extension": ".py",
   "mimetype": "text/x-python",
   "name": "python",
   "nbconvert_exporter": "python",
   "pygments_lexer": "ipython3",
   "version": "3.8.10"
  }
 },
 "nbformat": 4,
 "nbformat_minor": 5
}
