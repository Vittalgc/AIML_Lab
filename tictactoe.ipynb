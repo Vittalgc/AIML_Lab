{
 "cells": [
  {
   "cell_type": "markdown",
   "id": "0ebadb2b-e29c-48dc-882c-66dcc9679e29",
   "metadata": {},
   "source": [
    "#### Function that creates the empty board"
   ]
  },
  {
   "cell_type": "code",
   "execution_count": 50,
   "id": "29976028-627e-4c3d-8c5b-51cadca0e5db",
   "metadata": {
    "tags": []
   },
   "outputs": [],
   "source": [
    "def createBoard():\n",
    "    board = [[\".\", \".\", \".\"], [\".\", \".\", \".\"], [\".\", \".\", \".\"]]\n",
    "    return board"
   ]
  },
  {
   "cell_type": "markdown",
   "id": "0ff9613f-0dd0-436e-aec7-e1ee959057bb",
   "metadata": {
    "tags": []
   },
   "source": [
    "#### Function to print the board "
   ]
  },
  {
   "cell_type": "code",
   "execution_count": 51,
   "id": "1c5e63db-54b4-4e7e-9270-788fcd3b0f1c",
   "metadata": {
    "tags": []
   },
   "outputs": [],
   "source": [
    "def printPretty(board):\n",
    "    print(\"---+---+---\")\n",
    "    for row in board:\n",
    "        print(row[0], ' |', row[1], '|', row[2])\n",
    "        print(\"---+---+---\")"
   ]
  },
  {
   "cell_type": "markdown",
   "id": "c02bf12c-141d-42f2-916d-c737845de9e1",
   "metadata": {},
   "source": [
    "#### Function to carry out each user's turn"
   ]
  },
  {
   "cell_type": "code",
   "execution_count": 60,
   "id": "0141c290-3058-4263-a6f9-b99e09955bbb",
   "metadata": {
    "tags": []
   },
   "outputs": [],
   "source": [
    "def game(p1, p2, board, count):\n",
    "    if count % 2 == 0:\n",
    "        player = p2\n",
    "    else:\n",
    "        player = p1\n",
    "    print(f\"Player {player}'s Turn: \")\n",
    "    row = int(input(\"Row: \"))\n",
    "    col = int(input(\"Column: \"))\n",
    "    \n",
    "    # Following while loops are to keep prompting the players for valid row and column values\n",
    "    while(row < 0 or col < 0 or row > 2 or col > 2):\n",
    "        print(\"Out of Board!, Please enter your selection again. \\n\")\n",
    "        row = int(input(\"Row: \"))\n",
    "        col = int(input(\"Column: \"))\n",
    "        \n",
    "    while((board[row][col] == p1) or (board[row][col] == p2)):\n",
    "        print(\"Spot is already Occupied, Please enter your selection again. \\n\")\n",
    "        row = int(input(\"Row: \"))\n",
    "        col = int(input(\"Column: \"))\n",
    "        \n",
    "    board[row][col] = player\n",
    "    return board"
   ]
  },
  {
   "cell_type": "markdown",
   "id": "c29f1f70-7f80-442d-8f8b-64518ad1ee68",
   "metadata": {
    "jp-MarkdownHeadingCollapsed": true,
    "tags": []
   },
   "source": [
    "#### Testing Transpose (Ignore this)"
   ]
  },
  {
   "cell_type": "code",
   "execution_count": 53,
   "id": "2cf40c9f-6735-4dee-a9a3-65a19daec3dc",
   "metadata": {
    "tags": []
   },
   "outputs": [
    {
     "name": "stdout",
     "output_type": "stream",
     "text": [
      "[2, 0, 3]\n",
      "[4, 2, 3]\n",
      "[1, 0, 3]\n",
      "\n",
      "\n",
      "(2, 4, 1)\n",
      "(0, 2, 0)\n",
      "(3, 3, 3)\n"
     ]
    }
   ],
   "source": [
    "arr = [[2,0,3],[4,2,3],[1,0,3]]\n",
    "for row in arr:\n",
    "    print (row)\n",
    "print(\"\\n\")\n",
    "for row in zip(*arr):\n",
    "    print (row)"
   ]
  },
  {
   "cell_type": "code",
   "execution_count": 54,
   "id": "6eab521e-eb06-4536-8762-3a97dd29d210",
   "metadata": {
    "tags": []
   },
   "outputs": [
    {
     "name": "stdout",
     "output_type": "stream",
     "text": [
      "[[2, 0, 3], [4, 2, 3], [1, 0, 3]]\n"
     ]
    }
   ],
   "source": [
    "print (arr)"
   ]
  },
  {
   "cell_type": "markdown",
   "id": "7fa755cc-c600-4e0f-b45f-16d2a72217c6",
   "metadata": {},
   "source": [
    "#### Funtion that gets called after every turn to check for any winners"
   ]
  },
  {
   "cell_type": "code",
   "execution_count": 61,
   "id": "421e96ae-4275-48ce-8e61-56b245ce86ac",
   "metadata": {
    "tags": []
   },
   "outputs": [],
   "source": [
    "def isWinner(p1, p2, board):\n",
    "    winner = False\n",
    "    # Check if they won by filling rows\n",
    "    for row in board:\n",
    "        if row[0] == row[1] == row[2] == p1:\n",
    "            print(f\"{p1} has won the game!\")\n",
    "            winner = True\n",
    "        elif row[0] == row[1] == row[2] == p2:\n",
    "            print(f\"{p2} has won the game!\")\n",
    "            winner = True\n",
    "    \n",
    "    # Check if they won by filling columns\n",
    "    for col in zip(*board):  # zip(*board) creates a transpose of our board, where each row is technically the Columns of our actual board.\n",
    "            if col[0] == col[1] == col[2] == p1:\n",
    "                print(f\"{p1} has won the game!\")\n",
    "                winner = True\n",
    "            elif col[0] == col[1] == col[2] == p2:\n",
    "                print(f\"{p2} has won the game!\")\n",
    "                winner = True\n",
    "                \n",
    "    if ((board[0][0] == board[1][1] == board[2][2] == p1) or (board[0][2] == board[1][1] == board[2][0] == p1)):\n",
    "        print(f\"{p1} has won the game!\")\n",
    "        winner = True\n",
    "    elif ((board[0][0] == board[1][1] == board[2][2] == p2) or (board[0][2] == board[1][1] == board[2][0] == p2)):\n",
    "        print(f\"{p2} has won the game!\")\n",
    "        winner = True    \n",
    "    \n",
    "    return winner"
   ]
  },
  {
   "cell_type": "markdown",
   "id": "ecae6058-0f97-4187-99ae-1feb03b09a50",
   "metadata": {
    "tags": []
   },
   "source": [
    "#### Function that starts the game and keeps track of moves "
   ]
  },
  {
   "cell_type": "code",
   "execution_count": 56,
   "id": "51928c17-2dc8-488d-ac85-117def9c0d42",
   "metadata": {
    "tags": []
   },
   "outputs": [],
   "source": [
    "def isFull(p1, p2, board):\n",
    "    count = 1\n",
    "    winner = False\n",
    "    while ((count < 10) and (winner == False)):\n",
    "        board = game(p1, p2, board, count)\n",
    "        printPretty(board)\n",
    "        print(\"\\n\")\n",
    "        if count == 9:\n",
    "            print(\"Game Over!\")\n",
    "            if winner == False:\n",
    "                print(\"There is a Tie\")\n",
    "                \n",
    "        winner = isWinner(p1, p2, board)\n",
    "        count += 1"
   ]
  },
  {
   "cell_type": "markdown",
   "id": "78a59589-26fa-48b0-a599-8a653b7bc45e",
   "metadata": {},
   "source": [
    "#### Main function"
   ]
  },
  {
   "cell_type": "code",
   "execution_count": 57,
   "id": "38669c30-b9d3-4208-934f-918984b3da67",
   "metadata": {
    "tags": []
   },
   "outputs": [],
   "source": [
    "def main():\n",
    "    p1 = input(\"Player 1, Enter preferred symbol: \")\n",
    "    if p1 == 'X':\n",
    "        p2 = 'O'\n",
    "    else: \n",
    "        p2 = 'X'\n",
    "    print(f\"Player 2, you are {p2}\")\n",
    "    \n",
    "    board = createBoard()\n",
    "    printPretty(board)\n",
    "    print(\"\\n\")\n",
    "    isFull(p1, p2, board)"
   ]
  },
  {
   "cell_type": "code",
   "execution_count": 58,
   "id": "ba3e23ec-8a2f-4888-a540-f076eb1a2976",
   "metadata": {
    "tags": []
   },
   "outputs": [
    {
     "name": "stdin",
     "output_type": "stream",
     "text": [
      "Player 1, Enter preferred symbol:  X\n"
     ]
    },
    {
     "name": "stdout",
     "output_type": "stream",
     "text": [
      "Player 2, you are O\n",
      "---+---+---\n",
      ".  | . | .\n",
      "---+---+---\n",
      ".  | . | .\n",
      "---+---+---\n",
      ".  | . | .\n",
      "---+---+---\n",
      "\n",
      "\n",
      "Player X's Turn: \n"
     ]
    },
    {
     "name": "stdin",
     "output_type": "stream",
     "text": [
      "Row:  1\n",
      "Column:  1\n"
     ]
    },
    {
     "name": "stdout",
     "output_type": "stream",
     "text": [
      "---+---+---\n",
      ".  | . | .\n",
      "---+---+---\n",
      ".  | X | .\n",
      "---+---+---\n",
      ".  | . | .\n",
      "---+---+---\n",
      "\n",
      "\n",
      "Player O's Turn: \n"
     ]
    },
    {
     "name": "stdin",
     "output_type": "stream",
     "text": [
      "Row:  0\n",
      "Column:  0\n"
     ]
    },
    {
     "name": "stdout",
     "output_type": "stream",
     "text": [
      "---+---+---\n",
      "O  | . | .\n",
      "---+---+---\n",
      ".  | X | .\n",
      "---+---+---\n",
      ".  | . | .\n",
      "---+---+---\n",
      "\n",
      "\n",
      "Player X's Turn: \n"
     ]
    },
    {
     "name": "stdin",
     "output_type": "stream",
     "text": [
      "Row:  2\n",
      "Column:  0\n"
     ]
    },
    {
     "name": "stdout",
     "output_type": "stream",
     "text": [
      "---+---+---\n",
      "O  | . | .\n",
      "---+---+---\n",
      ".  | X | .\n",
      "---+---+---\n",
      "X  | . | .\n",
      "---+---+---\n",
      "\n",
      "\n",
      "Player O's Turn: \n"
     ]
    },
    {
     "name": "stdin",
     "output_type": "stream",
     "text": [
      "Row:  0\n",
      "Column:  2\n"
     ]
    },
    {
     "name": "stdout",
     "output_type": "stream",
     "text": [
      "---+---+---\n",
      "O  | . | O\n",
      "---+---+---\n",
      ".  | X | .\n",
      "---+---+---\n",
      "X  | . | .\n",
      "---+---+---\n",
      "\n",
      "\n",
      "Player X's Turn: \n"
     ]
    },
    {
     "name": "stdin",
     "output_type": "stream",
     "text": [
      "Row:  0\n",
      "Column:  1\n"
     ]
    },
    {
     "name": "stdout",
     "output_type": "stream",
     "text": [
      "---+---+---\n",
      "O  | X | O\n",
      "---+---+---\n",
      ".  | X | .\n",
      "---+---+---\n",
      "X  | . | .\n",
      "---+---+---\n",
      "\n",
      "\n",
      "Player O's Turn: \n"
     ]
    },
    {
     "name": "stdin",
     "output_type": "stream",
     "text": [
      "Row:  2\n",
      "Column:  2\n"
     ]
    },
    {
     "name": "stdout",
     "output_type": "stream",
     "text": [
      "---+---+---\n",
      "O  | X | O\n",
      "---+---+---\n",
      ".  | X | .\n",
      "---+---+---\n",
      "X  | . | O\n",
      "---+---+---\n",
      "\n",
      "\n",
      "Player X's Turn: \n"
     ]
    },
    {
     "name": "stdin",
     "output_type": "stream",
     "text": [
      "Row:  1\n",
      "Column:  1\n"
     ]
    },
    {
     "name": "stdout",
     "output_type": "stream",
     "text": [
      "Spot is already Occupied, Please enter your selection again. \n",
      "\n"
     ]
    },
    {
     "name": "stdin",
     "output_type": "stream",
     "text": [
      "Row:  1\n",
      "Column:  0\n"
     ]
    },
    {
     "name": "stdout",
     "output_type": "stream",
     "text": [
      "---+---+---\n",
      "O  | X | O\n",
      "---+---+---\n",
      "X  | X | .\n",
      "---+---+---\n",
      "X  | . | O\n",
      "---+---+---\n",
      "\n",
      "\n",
      "Player O's Turn: \n"
     ]
    },
    {
     "name": "stdin",
     "output_type": "stream",
     "text": [
      "Row:  1\n",
      "Column:  2\n"
     ]
    },
    {
     "name": "stdout",
     "output_type": "stream",
     "text": [
      "---+---+---\n",
      "O  | X | O\n",
      "---+---+---\n",
      "X  | X | O\n",
      "---+---+---\n",
      "X  | . | O\n",
      "---+---+---\n",
      "\n",
      "\n",
      "O has won the game!\n"
     ]
    }
   ],
   "source": [
    "main()"
   ]
  }
 ],
 "metadata": {
  "kernelspec": {
   "display_name": "Python 3 (ipykernel)",
   "language": "python",
   "name": "python3"
  },
  "language_info": {
   "codemirror_mode": {
    "name": "ipython",
    "version": 3
   },
   "file_extension": ".py",
   "mimetype": "text/x-python",
   "name": "python",
   "nbconvert_exporter": "python",
   "pygments_lexer": "ipython3",
   "version": "3.8.10"
  }
 },
 "nbformat": 4,
 "nbformat_minor": 5
}
