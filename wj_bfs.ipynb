{
 "cells": [
  {
   "cell_type": "code",
   "execution_count": 9,
   "id": "7ba799f6-46b2-42f6-ac00-b8466d677076",
   "metadata": {
    "tags": []
   },
   "outputs": [],
   "source": [
    "from collections import deque"
   ]
  },
  {
   "cell_type": "code",
   "execution_count": 10,
   "id": "b3fe711e-b35f-4005-a73c-25a5096a1784",
   "metadata": {
    "tags": []
   },
   "outputs": [],
   "source": [
    "def wj_bfs(a, b, target):\n",
    "    visited = {}\n",
    "    path = []\n",
    "    isSolvable = False\n",
    "    q = deque()\n",
    "    \n",
    "    q.append((0, 0))\n",
    "    \n",
    "    while(len(q) > 0):\n",
    "        u = q.popleft()\n",
    "        if ((u[0], u[1]) in visited):\n",
    "            continue\n",
    "        if (u[0] > a or u[1] > b or u[0] < 0 or u[1] < 0):\n",
    "            continue\n",
    "            \n",
    "        path.append([u[0], u[1]])\n",
    "        \n",
    "        visited[(u[0], u[1])] = 1\n",
    "        \n",
    "        if u[0] == target or u[1] == target:\n",
    "            isSolvable = True\n",
    "            \n",
    "            if u[0] == target:\n",
    "                path.append((u[0], 0))\n",
    "            else:\n",
    "                path.append((0, u[1]))\n",
    "            \n",
    "            for i in range(len(path)):\n",
    "                print(\"(\", path[i][0], \",\", path[i][1], \")\")\n",
    "            \n",
    "            break\n",
    "            \n",
    "        q.append([u[0], b])\n",
    "        q.append([a, u[1]])\n",
    "        \n",
    "        for amount in range(max(a, b)+1):\n",
    "            \n",
    "            c = u[0] + amount\n",
    "            d = u[1] - amount\n",
    "            \n",
    "            if (c == a) or (d == 0 and d >= 0):\n",
    "                q.append([c, d])\n",
    "                \n",
    "            c = u[0] - amount\n",
    "            d = u[1] + amount\n",
    "            \n",
    "            if (c == 0 and c >= 0) or (d == b):\n",
    "                q.append([c, d])\n",
    "                \n",
    "        q.append([a, 0])\n",
    "        q.append([0, b])\n",
    "\n",
    "    if (not isSolvable):\n",
    "        print(\"No Solution\")"
   ]
  },
  {
   "cell_type": "code",
   "execution_count": 11,
   "id": "ae36feac-1242-459c-b843-fe42cd623e1b",
   "metadata": {
    "tags": []
   },
   "outputs": [
    {
     "name": "stdout",
     "output_type": "stream",
     "text": [
      "( 0 , 0 )\n",
      "( 0 , 3 )\n",
      "( 4 , 0 )\n",
      "( 4 , 3 )\n",
      "( 3 , 0 )\n",
      "( 1 , 3 )\n",
      "( 3 , 3 )\n",
      "( 4 , 2 )\n",
      "( 0 , 2 )\n"
     ]
    }
   ],
   "source": [
    "wj_bfs(4, 3, 2)"
   ]
  }
 ],
 "metadata": {
  "kernelspec": {
   "display_name": "Python 3 (ipykernel)",
   "language": "python",
   "name": "python3"
  },
  "language_info": {
   "codemirror_mode": {
    "name": "ipython",
    "version": 3
   },
   "file_extension": ".py",
   "mimetype": "text/x-python",
   "name": "python",
   "nbconvert_exporter": "python",
   "pygments_lexer": "ipython3",
   "version": "3.8.10"
  }
 },
 "nbformat": 4,
 "nbformat_minor": 5
}
